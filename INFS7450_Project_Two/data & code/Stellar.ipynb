{
 "cells": [
  {
   "cell_type": "code",
   "execution_count": 1,
   "metadata": {},
   "outputs": [],
   "source": [
    "import stellargraph as sg\n",
    "from stellargraph.data import EdgeSplitter\n",
    "from stellargraph.mapper import FullBatchLinkGenerator\n",
    "from stellargraph.layer import GCN, LinkEmbedding\n",
    "\n",
    "\n",
    "from tensorflow import keras\n",
    "from sklearn import preprocessing, feature_extraction, model_selection\n",
    "\n",
    "from stellargraph import globalvar\n",
    "from stellargraph import datasets\n",
    "from IPython.display import display, HTML\n",
    "%matplotlib inline\n",
    "\n",
    "import pandas as pd\n",
    "import numpy as np\n",
    "\n",
    "import networkx as nx\n",
    "from random import choice"
   ]
  },
  {
   "cell_type": "code",
   "execution_count": 20,
   "metadata": {},
   "outputs": [],
   "source": [
    "G_train_nx = nx.read_edgelist('training.txt')\n",
    "nodes_train = G_train_nx.nodes()\n",
    "feature_vector = [1,1,1,1,1]\n",
    "node_data = pd.DataFrame(\n",
    "    [feature_vector for i in range(len(nodes_train))],\n",
    "    index=[node for node in nodes_train])\n",
    "G_train = sg.StellarGraph.from_networkx(G_train_nx, node_features=node_data)"
   ]
  },
  {
   "cell_type": "code",
   "execution_count": 21,
   "metadata": {},
   "outputs": [],
   "source": [
    "G_test_nx = nx.read_edgelist('val_positive.txt')\n",
    "nodes = G_test_nx.nodes()\n",
    "feature_vector = [1,1,1,1,1]\n",
    "node_data = pd.DataFrame(\n",
    "    [feature_vector for i in range(len(nodes))],\n",
    "    index=[node for node in nodes])\n",
    "G_test = sg.StellarGraph.from_networkx(G_test_nx, node_features=node_data)"
   ]
  },
  {
   "cell_type": "code",
   "execution_count": 22,
   "metadata": {},
   "outputs": [],
   "source": [
    "G_test_neg = nx.read_edgelist('val_negative.txt')\n",
    "edges_test_neg = G_test_neg.edges()"
   ]
  },
  {
   "cell_type": "code",
   "execution_count": 23,
   "metadata": {},
   "outputs": [],
   "source": [
    "edges_train_neg = []\n",
    "i = 0\n",
    "while i < len(nodes_train):\n",
    "    node = choice(list(nodes_train))\n",
    "    target = choice(list(nodes_train))\n",
    "    if node != target and (node, target) not in G_train_nx.edges():\n",
    "        edges_train_neg.append((node, target))\n",
    "        i += 1"
   ]
  },
  {
   "cell_type": "code",
   "execution_count": 24,
   "metadata": {},
   "outputs": [
    {
     "name": "stdout",
     "output_type": "stream",
     "text": [
      "StellarGraph: Undirected multigraph\n",
      " Nodes: 5240, Edges: 11496\n",
      "\n",
      " Node types:\n",
      "  default: [5240]\n",
      "    Features: float32 vector, length 5\n",
      "    Edge types: default-default->default\n",
      "\n",
      " Edge types:\n",
      "    default-default->default: [11496]\n",
      "        Weights: all 1 (default)\n"
     ]
    }
   ],
   "source": [
    "edge_ids_train = G_train.edges()\n",
    "edge_labels_train = [1 for i in range(len(G_train.edges()))]\n",
    "for neg_edge in edges_train_neg:\n",
    "    edge_ids_train.append(neg_edge)\n",
    "    edge_labels_train.append(0)\n",
    "print(G_train.info())"
   ]
  },
  {
   "cell_type": "code",
   "execution_count": 25,
   "metadata": {},
   "outputs": [
    {
     "name": "stdout",
     "output_type": "stream",
     "text": [
      "StellarGraph: Undirected multigraph\n",
      " Nodes: 186, Edges: 100\n",
      "\n",
      " Node types:\n",
      "  default: [186]\n",
      "    Features: float32 vector, length 5\n",
      "    Edge types: default-default->default\n",
      "\n",
      " Edge types:\n",
      "    default-default->default: [100]\n",
      "        Weights: all 1 (default)\n"
     ]
    }
   ],
   "source": [
    "edge_ids_test = G_test.edges()\n",
    "edge_labels_test = [1 for i in range(len(G_test.edges()))]\n",
    "for neg_edge in edges_test_neg:\n",
    "    edge_ids_test.append(neg_edge)\n",
    "    edge_labels_test.append(0)\n",
    "print(G_test.info())"
   ]
  },
  {
   "cell_type": "code",
   "execution_count": 26,
   "metadata": {},
   "outputs": [],
   "source": [
    "epochs = 50"
   ]
  },
  {
   "cell_type": "code",
   "execution_count": 27,
   "metadata": {
    "scrolled": false
   },
   "outputs": [
    {
     "name": "stdout",
     "output_type": "stream",
     "text": [
      "Using GCN (local pooling) filters...\n"
     ]
    }
   ],
   "source": [
    "train_gen = sg.mapper.FullBatchLinkGenerator(G_train, method=\"gcn\")\n",
    "train_flow = train_gen.flow(edge_ids_train, edge_labels_train)"
   ]
  },
  {
   "cell_type": "code",
   "execution_count": 28,
   "metadata": {},
   "outputs": [
    {
     "name": "stdout",
     "output_type": "stream",
     "text": [
      "Using GCN (local pooling) filters...\n"
     ]
    }
   ],
   "source": [
    "test_gen = FullBatchLinkGenerator(G_test, method=\"gcn\")\n",
    "test_flow = train_gen.flow(edge_ids_test, edge_labels_test)"
   ]
  },
  {
   "cell_type": "code",
   "execution_count": 29,
   "metadata": {},
   "outputs": [],
   "source": [
    "gcn = GCN(\n",
    "    layer_sizes=[16, 16], activations=[\"relu\", \"relu\"], generator=train_gen, dropout=0.3\n",
    ")"
   ]
  },
  {
   "cell_type": "code",
   "execution_count": 30,
   "metadata": {},
   "outputs": [],
   "source": [
    "x_inp, x_out = gcn.in_out_tensors()"
   ]
  },
  {
   "cell_type": "code",
   "execution_count": 31,
   "metadata": {},
   "outputs": [],
   "source": [
    "prediction = LinkEmbedding(activation=\"relu\", method=\"ip\")(x_out)"
   ]
  },
  {
   "cell_type": "code",
   "execution_count": 32,
   "metadata": {},
   "outputs": [],
   "source": [
    "prediction = keras.layers.Reshape((-1,))(prediction)"
   ]
  },
  {
   "cell_type": "code",
   "execution_count": 33,
   "metadata": {},
   "outputs": [],
   "source": [
    "model = keras.Model(inputs=x_inp, outputs=prediction)\n",
    "\n",
    "model.compile(\n",
    "    optimizer=keras.optimizers.Adam(lr=0.01),\n",
    "    loss=keras.losses.binary_crossentropy,\n",
    "    metrics=[\"accuracy\"],\n",
    ")"
   ]
  },
  {
   "cell_type": "code",
   "execution_count": 34,
   "metadata": {},
   "outputs": [
    {
     "name": "stdout",
     "output_type": "stream",
     "text": [
      "1/1 [==============================] - 0s 2ms/step - loss: 0.6630 - acc: 0.0000e+00\n",
      "1/1 [==============================] - 0s 2ms/step - loss: 0.8400 - acc: 0.0000e+00\n",
      "\n",
      "Train Set Metrics of the initial (untrained) model:\n",
      "\tloss: 0.6630\n",
      "\tacc: 0.0000\n",
      "\n",
      "Test Set Metrics of the initial (untrained) model:\n",
      "\tloss: 0.8400\n",
      "\tacc: 0.0000\n"
     ]
    }
   ],
   "source": [
    "init_train_metrics = model.evaluate(train_flow)\n",
    "init_test_metrics = model.evaluate(test_flow)\n",
    "\n",
    "print(\"\\nTrain Set Metrics of the initial (untrained) model:\")\n",
    "for name, val in zip(model.metrics_names, init_train_metrics):\n",
    "    print(\"\\t{}: {:0.4f}\".format(name, val))\n",
    "\n",
    "print(\"\\nTest Set Metrics of the initial (untrained) model:\")\n",
    "for name, val in zip(model.metrics_names, init_test_metrics):\n",
    "    print(\"\\t{}: {:0.4f}\".format(name, val))"
   ]
  },
  {
   "cell_type": "code",
   "execution_count": 40,
   "metadata": {},
   "outputs": [
    {
     "name": "stdout",
     "output_type": "stream",
     "text": [
      "Epoch 1/50\n",
      "1/1 [==============================] - 0s 64ms/step - loss: 0.5990 - acc: 0.0000e+00 - val_loss: 1.0095 - val_acc: 0.0000e+00\n",
      "Epoch 2/50\n",
      "1/1 [==============================] - 0s 68ms/step - loss: 0.5765 - acc: 0.0000e+00 - val_loss: 0.8646 - val_acc: 0.0000e+00\n",
      "Epoch 3/50\n",
      "1/1 [==============================] - 0s 97ms/step - loss: 0.5842 - acc: 0.0000e+00 - val_loss: 0.8178 - val_acc: 0.0000e+00\n",
      "Epoch 4/50\n",
      "1/1 [==============================] - 0s 102ms/step - loss: 0.6052 - acc: 0.0000e+00 - val_loss: 0.8222 - val_acc: 0.0000e+00\n",
      "Epoch 5/50\n",
      "1/1 [==============================] - 0s 114ms/step - loss: 0.6092 - acc: 0.0000e+00 - val_loss: 0.8717 - val_acc: 0.0000e+00\n",
      "Epoch 6/50\n",
      "1/1 [==============================] - 0s 71ms/step - loss: 0.5961 - acc: 0.0000e+00 - val_loss: 0.9834 - val_acc: 0.0000e+00\n",
      "Epoch 7/50\n",
      "1/1 [==============================] - 0s 64ms/step - loss: 0.5770 - acc: 0.0000e+00 - val_loss: 1.1632 - val_acc: 0.0000e+00\n",
      "Epoch 8/50\n",
      "1/1 [==============================] - 0s 81ms/step - loss: 0.5849 - acc: 0.0000e+00 - val_loss: 1.4313 - val_acc: 0.0000e+00\n",
      "Epoch 9/50\n",
      "1/1 [==============================] - 0s 89ms/step - loss: 0.5834 - acc: 0.0000e+00 - val_loss: 1.7669 - val_acc: 0.0000e+00\n",
      "Epoch 10/50\n",
      "1/1 [==============================] - 0s 71ms/step - loss: 0.6063 - acc: 0.0000e+00 - val_loss: 1.7939 - val_acc: 0.0000e+00\n",
      "Epoch 11/50\n",
      "1/1 [==============================] - 0s 62ms/step - loss: 0.6022 - acc: 0.0000e+00 - val_loss: 1.6635 - val_acc: 0.0000e+00\n",
      "Epoch 12/50\n",
      "1/1 [==============================] - 0s 63ms/step - loss: 0.5868 - acc: 0.0000e+00 - val_loss: 1.5197 - val_acc: 0.0000e+00\n",
      "Epoch 13/50\n",
      "1/1 [==============================] - 0s 81ms/step - loss: 0.5505 - acc: 0.0000e+00 - val_loss: 1.4133 - val_acc: 0.0000e+00\n",
      "Epoch 14/50\n",
      "1/1 [==============================] - 0s 78ms/step - loss: 0.5583 - acc: 0.0000e+00 - val_loss: 1.4304 - val_acc: 0.0000e+00\n",
      "Epoch 15/50\n",
      "1/1 [==============================] - 0s 63ms/step - loss: 0.5519 - acc: 0.0000e+00 - val_loss: 1.1246 - val_acc: 0.0000e+00\n",
      "Epoch 16/50\n",
      "1/1 [==============================] - 0s 98ms/step - loss: 0.5860 - acc: 0.0000e+00 - val_loss: 1.0352 - val_acc: 0.0000e+00\n",
      "Epoch 17/50\n",
      "1/1 [==============================] - 0s 143ms/step - loss: 0.5939 - acc: 0.0000e+00 - val_loss: 1.0892 - val_acc: 0.0000e+00\n",
      "Epoch 18/50\n",
      "1/1 [==============================] - 0s 69ms/step - loss: 0.5814 - acc: 0.0000e+00 - val_loss: 1.2496 - val_acc: 0.0000e+00\n",
      "Epoch 19/50\n",
      "1/1 [==============================] - 0s 53ms/step - loss: 0.5584 - acc: 0.0000e+00 - val_loss: 1.6322 - val_acc: 0.0000e+00\n",
      "Epoch 20/50\n",
      "1/1 [==============================] - 0s 54ms/step - loss: 0.5611 - acc: 0.0000e+00 - val_loss: 2.2979 - val_acc: 0.0000e+00\n",
      "Epoch 21/50\n",
      "1/1 [==============================] - 0s 111ms/step - loss: 0.6491 - acc: 0.0000e+00 - val_loss: 2.8237 - val_acc: 0.0000e+00\n",
      "Epoch 22/50\n",
      "1/1 [==============================] - 0s 106ms/step - loss: 0.6982 - acc: 0.0000e+00 - val_loss: 2.5313 - val_acc: 0.0000e+00\n",
      "Epoch 23/50\n",
      "1/1 [==============================] - 0s 63ms/step - loss: 0.6612 - acc: 0.0000e+00 - val_loss: 1.8802 - val_acc: 0.0000e+00\n",
      "Epoch 24/50\n",
      "1/1 [==============================] - 0s 107ms/step - loss: 0.5926 - acc: 0.0000e+00 - val_loss: 1.2980 - val_acc: 0.0000e+00\n",
      "Epoch 25/50\n",
      "1/1 [==============================] - 0s 87ms/step - loss: 0.5644 - acc: 0.0000e+00 - val_loss: 1.0683 - val_acc: 0.0000e+00\n",
      "Epoch 26/50\n",
      "1/1 [==============================] - 0s 66ms/step - loss: 0.5710 - acc: 0.0000e+00 - val_loss: 0.9789 - val_acc: 0.0000e+00\n",
      "Epoch 27/50\n",
      "1/1 [==============================] - 0s 102ms/step - loss: 0.5875 - acc: 0.0000e+00 - val_loss: 0.9800 - val_acc: 0.0000e+00\n",
      "Epoch 28/50\n",
      "1/1 [==============================] - 0s 72ms/step - loss: 0.5959 - acc: 0.0000e+00 - val_loss: 1.0506 - val_acc: 0.0000e+00\n",
      "Epoch 29/50\n",
      "1/1 [==============================] - 0s 63ms/step - loss: 0.5715 - acc: 0.0000e+00 - val_loss: 1.1923 - val_acc: 0.0000e+00\n",
      "Epoch 30/50\n",
      "1/1 [==============================] - 0s 59ms/step - loss: 0.5652 - acc: 0.0000e+00 - val_loss: 1.4524 - val_acc: 0.0000e+00\n",
      "Epoch 31/50\n",
      "1/1 [==============================] - 0s 62ms/step - loss: 0.5534 - acc: 0.0000e+00 - val_loss: 1.8665 - val_acc: 0.0000e+00\n",
      "Epoch 32/50\n",
      "1/1 [==============================] - 0s 62ms/step - loss: 0.5815 - acc: 0.0000e+00 - val_loss: 2.0583 - val_acc: 0.0000e+00\n",
      "Epoch 33/50\n",
      "1/1 [==============================] - 0s 62ms/step - loss: 0.6090 - acc: 0.0000e+00 - val_loss: 2.0444 - val_acc: 0.0000e+00\n",
      "Epoch 34/50\n",
      "1/1 [==============================] - 0s 54ms/step - loss: 0.5762 - acc: 0.0000e+00 - val_loss: 1.7496 - val_acc: 0.0000e+00\n",
      "Epoch 35/50\n",
      "1/1 [==============================] - 0s 62ms/step - loss: 0.5763 - acc: 0.0000e+00 - val_loss: 1.4702 - val_acc: 0.0000e+00\n",
      "Epoch 36/50\n",
      "1/1 [==============================] - 0s 62ms/step - loss: 0.5552 - acc: 0.0000e+00 - val_loss: 1.3098 - val_acc: 0.0000e+00\n",
      "Epoch 37/50\n",
      "1/1 [==============================] - 0s 132ms/step - loss: 0.5501 - acc: 0.0000e+00 - val_loss: 1.2390 - val_acc: 0.0000e+00\n",
      "Epoch 38/50\n",
      "1/1 [==============================] - 0s 75ms/step - loss: 0.5603 - acc: 0.0000e+00 - val_loss: 1.2396 - val_acc: 0.0000e+00\n",
      "Epoch 39/50\n",
      "1/1 [==============================] - 0s 63ms/step - loss: 0.5553 - acc: 0.0000e+00 - val_loss: 1.3194 - val_acc: 0.0000e+00\n",
      "Epoch 40/50\n",
      "1/1 [==============================] - 0s 64ms/step - loss: 0.5507 - acc: 0.0000e+00 - val_loss: 1.5097 - val_acc: 0.0000e+00\n",
      "Epoch 41/50\n",
      "1/1 [==============================] - 0s 54ms/step - loss: 0.5492 - acc: 0.0000e+00 - val_loss: 1.7496 - val_acc: 0.0000e+00\n",
      "Epoch 42/50\n",
      "1/1 [==============================] - 0s 60ms/step - loss: 0.5572 - acc: 0.0000e+00 - val_loss: 2.0709 - val_acc: 0.0000e+00\n",
      "Epoch 43/50\n",
      "1/1 [==============================] - 0s 111ms/step - loss: 0.5643 - acc: 0.0000e+00 - val_loss: 2.1181 - val_acc: 0.0000e+00\n",
      "Epoch 44/50\n",
      "1/1 [==============================] - 0s 90ms/step - loss: 0.5543 - acc: 0.0000e+00 - val_loss: 2.0988 - val_acc: 0.0000e+00\n",
      "Epoch 45/50\n",
      "1/1 [==============================] - 0s 70ms/step - loss: 0.5631 - acc: 0.0000e+00 - val_loss: 1.9859 - val_acc: 0.0000e+00\n",
      "Epoch 46/50\n",
      "1/1 [==============================] - 0s 60ms/step - loss: 0.5444 - acc: 0.0000e+00 - val_loss: 1.8636 - val_acc: 0.0000e+00\n",
      "Epoch 47/50\n",
      "1/1 [==============================] - 0s 62ms/step - loss: 0.5459 - acc: 0.0000e+00 - val_loss: 1.7705 - val_acc: 0.0000e+00\n",
      "Epoch 48/50\n",
      "1/1 [==============================] - 0s 66ms/step - loss: 0.5419 - acc: 0.0000e+00 - val_loss: 1.7543 - val_acc: 0.0000e+00\n",
      "Epoch 49/50\n",
      "1/1 [==============================] - 0s 77ms/step - loss: 0.5327 - acc: 0.0000e+00 - val_loss: 1.8128 - val_acc: 0.0000e+00\n",
      "Epoch 50/50\n",
      "1/1 [==============================] - 0s 103ms/step - loss: 0.5322 - acc: 0.0000e+00 - val_loss: 1.9444 - val_acc: 0.0000e+00\n"
     ]
    }
   ],
   "source": [
    "history = model.fit(\n",
    "    train_flow, epochs=epochs, validation_data=test_flow, verbose=1, shuffle=False\n",
    ")"
   ]
  },
  {
   "cell_type": "code",
   "execution_count": 36,
   "metadata": {},
   "outputs": [
    {
     "data": {
      "image/png": "[encoded data removed]",
      "text/plain": [
       "<Figure size 504x576 with 2 Axes>"
      ]
     },
     "metadata": {
      "needs_background": "light"
     },
     "output_type": "display_data"
    }
   ],
   "source": [
    "sg.utils.plot_history(history)"
   ]
  },
  {
   "cell_type": "code",
   "execution_count": 37,
   "metadata": {},
   "outputs": [
    {
     "name": "stdout",
     "output_type": "stream",
     "text": [
      "1/1 [==============================] - 0s 3ms/step - loss: 0.6926 - acc: 0.0000e+00\n",
      "1/1 [==============================] - 0s 2ms/step - loss: 0.6215 - acc: 0.0000e+00\n",
      "\n",
      "Train Set Metrics of the trained model:\n",
      "\tloss: 0.6926\n",
      "\tacc: 0.0000\n",
      "\n",
      "Test Set Metrics of the trained model:\n",
      "\tloss: 0.6215\n",
      "\tacc: 0.0000\n"
     ]
    }
   ],
   "source": [
    "train_metrics = model.evaluate(train_flow)\n",
    "test_metrics = model.evaluate(test_flow)\n",
    "\n",
    "print(\"\\nTrain Set Metrics of the trained model:\")\n",
    "for name, val in zip(model.metrics_names, train_metrics):\n",
    "    print(\"\\t{}: {:0.4f}\".format(name, val))\n",
    "\n",
    "print(\"\\nTest Set Metrics of the trained model:\")\n",
    "for name, val in zip(model.metrics_names, test_metrics):\n",
    "    print(\"\\t{}: {:0.4f}\".format(name, val))"
   ]
  },
  {
   "cell_type": "code",
   "execution_count": null,
   "metadata": {},
   "outputs": [],
   "source": []
  }
 ],
 "metadata": {
  "kernelspec": {
   "display_name": "Python 3",
   "language": "python",
   "name": "python3"
  },
  "language_info": {
   "codemirror_mode": {
    "name": "ipython",
    "version": 3
   },
   "file_extension": ".py",
   "mimetype": "text/x-python",
   "name": "python",
   "nbconvert_exporter": "python",
   "pygments_lexer": "ipython3",
   "version": "3.7.6"
  }
 },
 "nbformat": 4,
 "nbformat_minor": 4
}
